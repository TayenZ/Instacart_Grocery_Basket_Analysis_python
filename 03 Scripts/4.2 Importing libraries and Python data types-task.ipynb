{
 "cells": [
  {
   "cell_type": "markdown",
   "id": "5e71428b",
   "metadata": {},
   "source": [
    "# import libraries"
   ]
  },
  {
   "cell_type": "code",
   "execution_count": 1,
   "id": "dfe18c71",
   "metadata": {},
   "outputs": [],
   "source": [
    "import pandas as pd\n",
    "import numpy as np\n",
    "import os"
   ]
  },
  {
   "cell_type": "markdown",
   "id": "092dceec",
   "metadata": {},
   "source": [
    "# python data types"
   ]
  },
  {
   "cell_type": "markdown",
   "id": "9c641eb2",
   "metadata": {},
   "source": [
    "## step 7"
   ]
  },
  {
   "cell_type": "code",
   "execution_count": 2,
   "id": "26645841",
   "metadata": {},
   "outputs": [],
   "source": [
    "x1 = 50"
   ]
  },
  {
   "cell_type": "code",
   "execution_count": 3,
   "id": "30316857",
   "metadata": {},
   "outputs": [
    {
     "data": {
      "text/plain": [
       "100"
      ]
     },
     "execution_count": 3,
     "metadata": {},
     "output_type": "execute_result"
    }
   ],
   "source": [
    "x1 *2"
   ]
  },
  {
   "cell_type": "code",
   "execution_count": 4,
   "id": "d44b62be",
   "metadata": {},
   "outputs": [
    {
     "data": {
      "text/plain": [
       "100"
      ]
     },
     "execution_count": 4,
     "metadata": {},
     "output_type": "execute_result"
    }
   ],
   "source": [
    "x1 + x1"
   ]
  },
  {
   "cell_type": "code",
   "execution_count": 5,
   "id": "e8328eb7",
   "metadata": {},
   "outputs": [],
   "source": [
    "x2 = 150"
   ]
  },
  {
   "cell_type": "code",
   "execution_count": 6,
   "id": "b24aec68",
   "metadata": {},
   "outputs": [
    {
     "data": {
      "text/plain": [
       "100"
      ]
     },
     "execution_count": 6,
     "metadata": {},
     "output_type": "execute_result"
    }
   ],
   "source": [
    "x2 - x1"
   ]
  },
  {
   "cell_type": "markdown",
   "id": "29051174",
   "metadata": {},
   "source": [
    "## step 8"
   ]
  },
  {
   "cell_type": "code",
   "execution_count": 7,
   "id": "8054a6ab",
   "metadata": {},
   "outputs": [],
   "source": [
    "y1 = 156.35"
   ]
  },
  {
   "cell_type": "code",
   "execution_count": 8,
   "id": "e8e3f985",
   "metadata": {},
   "outputs": [],
   "source": [
    "y2 = 8.1"
   ]
  },
  {
   "cell_type": "code",
   "execution_count": 9,
   "id": "e1743d58",
   "metadata": {},
   "outputs": [
    {
     "data": {
      "text/plain": [
       "19.30246913580247"
      ]
     },
     "execution_count": 9,
     "metadata": {},
     "output_type": "execute_result"
    }
   ],
   "source": [
    "y1/y2"
   ]
  },
  {
   "cell_type": "markdown",
   "id": "75be5af8",
   "metadata": {},
   "source": [
    "## step 9"
   ]
  },
  {
   "cell_type": "code",
   "execution_count": 10,
   "id": "d6204d59",
   "metadata": {},
   "outputs": [],
   "source": [
    "z1 = 'Career'"
   ]
  },
  {
   "cell_type": "code",
   "execution_count": 11,
   "id": "01aaac3e",
   "metadata": {},
   "outputs": [],
   "source": [
    "z2 = 'Foundry'"
   ]
  },
  {
   "cell_type": "code",
   "execution_count": 12,
   "id": "9bd2f2ba",
   "metadata": {},
   "outputs": [
    {
     "data": {
      "text/plain": [
       "'CareerFoundry'"
      ]
     },
     "execution_count": 12,
     "metadata": {},
     "output_type": "execute_result"
    }
   ],
   "source": [
    "z1 + z2"
   ]
  },
  {
   "cell_type": "markdown",
   "id": "c7b60bb7",
   "metadata": {},
   "source": [
    "## step 10"
   ]
  },
  {
   "cell_type": "code",
   "execution_count": 13,
   "id": "af0a32d4",
   "metadata": {},
   "outputs": [],
   "source": [
    "z3 = 'I am writing code on Jupyter'"
   ]
  },
  {
   "cell_type": "code",
   "execution_count": 19,
   "id": "a6c589c2",
   "metadata": {},
   "outputs": [],
   "source": [
    "z4 = 'following the intro to python course' "
   ]
  },
  {
   "cell_type": "code",
   "execution_count": 22,
   "id": "d7438c17",
   "metadata": {},
   "outputs": [
    {
     "data": {
      "text/plain": [
       "'I am writing code on Jupyter, following the intro to python course on CareerFoundry'"
      ]
     },
     "execution_count": 22,
     "metadata": {},
     "output_type": "execute_result"
    }
   ],
   "source": [
    "z3 +', ' + z4 + ' on ' + z1 + z2"
   ]
  },
  {
   "cell_type": "markdown",
   "id": "43800d43",
   "metadata": {},
   "source": [
    "## Bonus Task"
   ]
  },
  {
   "cell_type": "code",
   "execution_count": 23,
   "id": "72f8c728",
   "metadata": {},
   "outputs": [],
   "source": [
    "a = 'Teng '"
   ]
  },
  {
   "cell_type": "code",
   "execution_count": 24,
   "id": "71b2c413",
   "metadata": {},
   "outputs": [],
   "source": [
    "b = 'Zhang'"
   ]
  },
  {
   "cell_type": "code",
   "execution_count": 25,
   "id": "5f978fa8",
   "metadata": {},
   "outputs": [
    {
     "data": {
      "text/plain": [
       "'Teng Zhang'"
      ]
     },
     "execution_count": 25,
     "metadata": {},
     "output_type": "execute_result"
    }
   ],
   "source": [
    "a + b"
   ]
  },
  {
   "cell_type": "code",
   "execution_count": 26,
   "id": "11ff8d78",
   "metadata": {},
   "outputs": [
    {
     "data": {
      "text/plain": [
       "'Teng ZhangTeng ZhangTeng ZhangTeng ZhangTeng ZhangTeng ZhangTeng ZhangTeng ZhangTeng ZhangTeng ZhangTeng ZhangTeng ZhangTeng ZhangTeng ZhangTeng ZhangTeng ZhangTeng ZhangTeng ZhangTeng ZhangTeng ZhangTeng ZhangTeng ZhangTeng ZhangTeng ZhangTeng ZhangTeng ZhangTeng ZhangTeng ZhangTeng ZhangTeng ZhangTeng ZhangTeng ZhangTeng ZhangTeng ZhangTeng ZhangTeng ZhangTeng ZhangTeng ZhangTeng ZhangTeng ZhangTeng ZhangTeng ZhangTeng ZhangTeng ZhangTeng ZhangTeng ZhangTeng ZhangTeng ZhangTeng ZhangTeng ZhangTeng ZhangTeng ZhangTeng ZhangTeng ZhangTeng ZhangTeng ZhangTeng ZhangTeng ZhangTeng ZhangTeng ZhangTeng ZhangTeng ZhangTeng ZhangTeng ZhangTeng ZhangTeng ZhangTeng ZhangTeng ZhangTeng ZhangTeng ZhangTeng ZhangTeng ZhangTeng ZhangTeng ZhangTeng ZhangTeng ZhangTeng ZhangTeng ZhangTeng ZhangTeng ZhangTeng ZhangTeng ZhangTeng ZhangTeng ZhangTeng ZhangTeng ZhangTeng ZhangTeng ZhangTeng ZhangTeng ZhangTeng ZhangTeng ZhangTeng ZhangTeng ZhangTeng ZhangTeng ZhangTeng ZhangTeng ZhangTeng ZhangTeng Zhang'"
      ]
     },
     "execution_count": 26,
     "metadata": {},
     "output_type": "execute_result"
    }
   ],
   "source": [
    "(a+b)*100"
   ]
  },
  {
   "cell_type": "code",
   "execution_count": null,
   "id": "b5c7e8c8",
   "metadata": {},
   "outputs": [],
   "source": []
  }
 ],
 "metadata": {
  "kernelspec": {
   "display_name": "Python 3 (ipykernel)",
   "language": "python",
   "name": "python3"
  },
  "language_info": {
   "codemirror_mode": {
    "name": "ipython",
    "version": 3
   },
   "file_extension": ".py",
   "mimetype": "text/x-python",
   "name": "python",
   "nbconvert_exporter": "python",
   "pygments_lexer": "ipython3",
   "version": "3.9.13"
  }
 },
 "nbformat": 4,
 "nbformat_minor": 5
}
