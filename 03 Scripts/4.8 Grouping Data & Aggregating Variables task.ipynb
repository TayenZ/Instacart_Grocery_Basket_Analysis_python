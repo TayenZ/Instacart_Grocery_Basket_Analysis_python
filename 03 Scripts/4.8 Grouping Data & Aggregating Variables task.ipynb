{
 "cells": [
  {
   "cell_type": "markdown",
   "id": "1eb7216b",
   "metadata": {},
   "source": [
    "# step 1 import df"
   ]
  },
  {
   "cell_type": "code",
   "execution_count": 1,
   "id": "2b04c92d",
   "metadata": {},
   "outputs": [],
   "source": [
    "import pandas as pd\n",
    "import numpy as np\n",
    "import os"
   ]
  },
  {
   "cell_type": "code",
   "execution_count": 6,
   "id": "af857c34",
   "metadata": {},
   "outputs": [],
   "source": [
    "path = r'/Users/tayen/Documents/CF/Instacart Basket Analysis/02 Data/Prepared Data'"
   ]
  },
  {
   "cell_type": "code",
   "execution_count": 3,
   "id": "0b7e9a3e",
   "metadata": {},
   "outputs": [],
   "source": [
    "df_ords_prods_merge = pd.read_pickle(os.path.join(path,'df_ords_prods_labelled.pickle'))"
   ]
  },
  {
   "cell_type": "code",
   "execution_count": 26,
   "id": "bc44ccd8",
   "metadata": {},
   "outputs": [
    {
     "data": {
      "text/html": [
       "<div>\n",
       "<style scoped>\n",
       "    .dataframe tbody tr th:only-of-type {\n",
       "        vertical-align: middle;\n",
       "    }\n",
       "\n",
       "    .dataframe tbody tr th {\n",
       "        vertical-align: top;\n",
       "    }\n",
       "\n",
       "    .dataframe thead th {\n",
       "        text-align: right;\n",
       "    }\n",
       "</style>\n",
       "<table border=\"1\" class=\"dataframe\">\n",
       "  <thead>\n",
       "    <tr style=\"text-align: right;\">\n",
       "      <th></th>\n",
       "      <th>order_id</th>\n",
       "      <th>user_id</th>\n",
       "      <th>order_number</th>\n",
       "      <th>order_dow</th>\n",
       "      <th>order_hour_of_day</th>\n",
       "      <th>days_since_prior_order</th>\n",
       "      <th>product_id</th>\n",
       "      <th>add_to_cart_order</th>\n",
       "      <th>reordered</th>\n",
       "      <th>_merge1</th>\n",
       "      <th>product_name</th>\n",
       "      <th>aisle_id</th>\n",
       "      <th>department_id</th>\n",
       "      <th>prices</th>\n",
       "      <th>_merge</th>\n",
       "      <th>price_range_loc</th>\n",
       "      <th>busiest_day</th>\n",
       "      <th>busiest_period_of_day</th>\n",
       "      <th>max_order</th>\n",
       "      <th>user_loyalty</th>\n",
       "    </tr>\n",
       "  </thead>\n",
       "  <tbody>\n",
       "    <tr>\n",
       "      <th>0</th>\n",
       "      <td>2539329</td>\n",
       "      <td>1</td>\n",
       "      <td>1</td>\n",
       "      <td>2</td>\n",
       "      <td>8</td>\n",
       "      <td>NaN</td>\n",
       "      <td>196</td>\n",
       "      <td>1</td>\n",
       "      <td>0</td>\n",
       "      <td>both</td>\n",
       "      <td>Soda</td>\n",
       "      <td>77</td>\n",
       "      <td>7</td>\n",
       "      <td>9.0</td>\n",
       "      <td>both</td>\n",
       "      <td>mid range product</td>\n",
       "      <td>regularly days</td>\n",
       "      <td>Average orders</td>\n",
       "      <td>10</td>\n",
       "      <td>Regular customer</td>\n",
       "    </tr>\n",
       "    <tr>\n",
       "      <th>1</th>\n",
       "      <td>2398795</td>\n",
       "      <td>1</td>\n",
       "      <td>2</td>\n",
       "      <td>3</td>\n",
       "      <td>7</td>\n",
       "      <td>15.0</td>\n",
       "      <td>196</td>\n",
       "      <td>1</td>\n",
       "      <td>1</td>\n",
       "      <td>both</td>\n",
       "      <td>Soda</td>\n",
       "      <td>77</td>\n",
       "      <td>7</td>\n",
       "      <td>9.0</td>\n",
       "      <td>both</td>\n",
       "      <td>mid range product</td>\n",
       "      <td>lowest days</td>\n",
       "      <td>Average orders</td>\n",
       "      <td>10</td>\n",
       "      <td>Regular customer</td>\n",
       "    </tr>\n",
       "    <tr>\n",
       "      <th>2</th>\n",
       "      <td>473747</td>\n",
       "      <td>1</td>\n",
       "      <td>3</td>\n",
       "      <td>3</td>\n",
       "      <td>12</td>\n",
       "      <td>21.0</td>\n",
       "      <td>196</td>\n",
       "      <td>1</td>\n",
       "      <td>1</td>\n",
       "      <td>both</td>\n",
       "      <td>Soda</td>\n",
       "      <td>77</td>\n",
       "      <td>7</td>\n",
       "      <td>9.0</td>\n",
       "      <td>both</td>\n",
       "      <td>mid range product</td>\n",
       "      <td>lowest days</td>\n",
       "      <td>Most orders</td>\n",
       "      <td>10</td>\n",
       "      <td>Regular customer</td>\n",
       "    </tr>\n",
       "    <tr>\n",
       "      <th>3</th>\n",
       "      <td>2254736</td>\n",
       "      <td>1</td>\n",
       "      <td>4</td>\n",
       "      <td>4</td>\n",
       "      <td>7</td>\n",
       "      <td>29.0</td>\n",
       "      <td>196</td>\n",
       "      <td>1</td>\n",
       "      <td>1</td>\n",
       "      <td>both</td>\n",
       "      <td>Soda</td>\n",
       "      <td>77</td>\n",
       "      <td>7</td>\n",
       "      <td>9.0</td>\n",
       "      <td>both</td>\n",
       "      <td>mid range product</td>\n",
       "      <td>lowest days</td>\n",
       "      <td>Average orders</td>\n",
       "      <td>10</td>\n",
       "      <td>Regular customer</td>\n",
       "    </tr>\n",
       "    <tr>\n",
       "      <th>4</th>\n",
       "      <td>431534</td>\n",
       "      <td>1</td>\n",
       "      <td>5</td>\n",
       "      <td>4</td>\n",
       "      <td>15</td>\n",
       "      <td>28.0</td>\n",
       "      <td>196</td>\n",
       "      <td>1</td>\n",
       "      <td>1</td>\n",
       "      <td>both</td>\n",
       "      <td>Soda</td>\n",
       "      <td>77</td>\n",
       "      <td>7</td>\n",
       "      <td>9.0</td>\n",
       "      <td>both</td>\n",
       "      <td>mid range product</td>\n",
       "      <td>lowest days</td>\n",
       "      <td>Most orders</td>\n",
       "      <td>10</td>\n",
       "      <td>Regular customer</td>\n",
       "    </tr>\n",
       "  </tbody>\n",
       "</table>\n",
       "</div>"
      ],
      "text/plain": [
       "   order_id  user_id  order_number  order_dow  order_hour_of_day  \\\n",
       "0   2539329        1             1          2                  8   \n",
       "1   2398795        1             2          3                  7   \n",
       "2    473747        1             3          3                 12   \n",
       "3   2254736        1             4          4                  7   \n",
       "4    431534        1             5          4                 15   \n",
       "\n",
       "   days_since_prior_order  product_id  add_to_cart_order  reordered _merge1  \\\n",
       "0                     NaN         196                  1          0    both   \n",
       "1                    15.0         196                  1          1    both   \n",
       "2                    21.0         196                  1          1    both   \n",
       "3                    29.0         196                  1          1    both   \n",
       "4                    28.0         196                  1          1    both   \n",
       "\n",
       "  product_name  aisle_id  department_id  prices _merge    price_range_loc  \\\n",
       "0         Soda        77              7     9.0   both  mid range product   \n",
       "1         Soda        77              7     9.0   both  mid range product   \n",
       "2         Soda        77              7     9.0   both  mid range product   \n",
       "3         Soda        77              7     9.0   both  mid range product   \n",
       "4         Soda        77              7     9.0   both  mid range product   \n",
       "\n",
       "      busiest_day busiest_period_of_day  max_order      user_loyalty  \n",
       "0  regularly days        Average orders         10  Regular customer  \n",
       "1     lowest days        Average orders         10  Regular customer  \n",
       "2     lowest days           Most orders         10  Regular customer  \n",
       "3     lowest days        Average orders         10  Regular customer  \n",
       "4     lowest days           Most orders         10  Regular customer  "
      ]
     },
     "execution_count": 26,
     "metadata": {},
     "output_type": "execute_result"
    }
   ],
   "source": [
    "df_ords_prods_merge.head()"
   ]
  },
  {
   "cell_type": "markdown",
   "id": "245ff1a1",
   "metadata": {},
   "source": [
    "# step 2 single aggregation"
   ]
  },
  {
   "cell_type": "code",
   "execution_count": null,
   "id": "e7e85d32",
   "metadata": {},
   "outputs": [],
   "source": [
    "df_ords_prods_merge.groupby(['department_id']).agg({'order_number':['mean']})"
   ]
  },
  {
   "cell_type": "code",
   "execution_count": 7,
   "id": "70e125fb",
   "metadata": {
    "scrolled": true
   },
   "outputs": [
    {
     "data": {
      "text/plain": [
       "department_id\n",
       "1     15.457838\n",
       "2     17.277920\n",
       "3     17.170395\n",
       "4     17.811403\n",
       "5     15.215751\n",
       "6     16.439806\n",
       "7     17.225802\n",
       "8     15.340650\n",
       "9     15.895474\n",
       "10    20.197148\n",
       "11    16.170638\n",
       "12    15.887671\n",
       "13    16.583536\n",
       "14    16.773669\n",
       "15    16.165037\n",
       "16    17.665606\n",
       "17    15.694469\n",
       "18    19.310397\n",
       "19    17.177343\n",
       "20    16.473447\n",
       "21    22.902379\n",
       "Name: order_number, dtype: float64"
      ]
     },
     "execution_count": 7,
     "metadata": {},
     "output_type": "execute_result"
    }
   ],
   "source": [
    "df_ords_prods_merge.groupby(['department_id'])['order_number'].mean()"
   ]
  },
  {
   "cell_type": "code",
   "execution_count": 15,
   "id": "ddfea4d2",
   "metadata": {},
   "outputs": [
    {
     "data": {
      "text/plain": [
       "department_id\n",
       "1     2234743\n",
       "2       36291\n",
       "3     1172428\n",
       "4     9479291\n",
       "5      153696\n",
       "6      269253\n",
       "7     2688123\n",
       "8       97716\n",
       "9      866627\n",
       "10      34573\n",
       "11     447572\n",
       "12     708927\n",
       "13    1875369\n",
       "14     703033\n",
       "15    1068058\n",
       "16    5398747\n",
       "17     738666\n",
       "18     423802\n",
       "19    2887550\n",
       "20    1051249\n",
       "21      69145\n",
       "Name: order_id, dtype: int64"
      ]
     },
     "execution_count": 15,
     "metadata": {},
     "output_type": "execute_result"
    }
   ],
   "source": [
    "df_ords_prods_merge.groupby(['department_id'])['order_id'].count()"
   ]
  },
  {
   "cell_type": "markdown",
   "id": "7a9d93e4",
   "metadata": {},
   "source": [
    "# step 3"
   ]
  },
  {
   "cell_type": "markdown",
   "id": "76907622",
   "metadata": {},
   "source": [
    "### it contains all the department rather than some of them. the means of order number across different department are closer."
   ]
  },
  {
   "cell_type": "markdown",
   "id": "3c1cfb4d",
   "metadata": {},
   "source": [
    "# step 4 loyal label with transform() & loc()"
   ]
  },
  {
   "cell_type": "code",
   "execution_count": 11,
   "id": "20157e3b",
   "metadata": {},
   "outputs": [],
   "source": [
    "# derive a new column for max_order\n",
    "df_ords_prods_merge['max_order'] = df_ords_prods_merge.groupby(['user_id'])['order_number'].transform(np.max)"
   ]
  },
  {
   "cell_type": "code",
   "execution_count": 13,
   "id": "61ee5f55",
   "metadata": {},
   "outputs": [
    {
     "data": {
      "text/plain": [
       "count    3.240486e+07\n",
       "mean     3.305217e+01\n",
       "std      2.515525e+01\n",
       "min      1.000000e+00\n",
       "25%      1.300000e+01\n",
       "50%      2.600000e+01\n",
       "75%      4.700000e+01\n",
       "max      9.900000e+01\n",
       "Name: max_order, dtype: float64"
      ]
     },
     "execution_count": 13,
     "metadata": {},
     "output_type": "execute_result"
    }
   ],
   "source": [
    "df_ords_prods_merge['max_order'].describe()"
   ]
  },
  {
   "cell_type": "code",
   "execution_count": null,
   "id": "31770455",
   "metadata": {},
   "outputs": [],
   "source": [
    "# create lable for user loyalty"
   ]
  },
  {
   "cell_type": "code",
   "execution_count": 16,
   "id": "8afd498e",
   "metadata": {},
   "outputs": [],
   "source": [
    "df_ords_prods_merge.loc[df_ords_prods_merge['max_order'] > 40, 'user_loyalty'] = 'Loyal customer'"
   ]
  },
  {
   "cell_type": "code",
   "execution_count": 21,
   "id": "60459013",
   "metadata": {},
   "outputs": [],
   "source": [
    "df_ords_prods_merge.loc[(df_ords_prods_merge['max_order'] <= 40) & (df_ords_prods_merge['max_order'] >= 10), 'user_loyalty'] = 'Regular customer'"
   ]
  },
  {
   "cell_type": "code",
   "execution_count": 19,
   "id": "75485a98",
   "metadata": {},
   "outputs": [],
   "source": [
    "df_ords_prods_merge.loc[df_ords_prods_merge['max_order'] < 10,'user_loyalty'] = 'New customer'"
   ]
  },
  {
   "cell_type": "code",
   "execution_count": 25,
   "id": "7cbecfbc",
   "metadata": {},
   "outputs": [
    {
     "data": {
      "text/plain": [
       "Regular customer    16649900\n",
       "Loyal customer      10284093\n",
       "New customer         5470866\n",
       "Name: user_loyalty, dtype: int64"
      ]
     },
     "execution_count": 25,
     "metadata": {},
     "output_type": "execute_result"
    }
   ],
   "source": [
    "df_ords_prods_merge['user_loyalty'].value_counts(dropna = False)"
   ]
  },
  {
   "cell_type": "markdown",
   "id": "30f38fb7",
   "metadata": {},
   "source": [
    "# step 5 "
   ]
  },
  {
   "cell_type": "code",
   "execution_count": 28,
   "id": "ede55dab",
   "metadata": {},
   "outputs": [
    {
     "data": {
      "text/plain": [
       "user_loyalty\n",
       "Loyal customer      10.386336\n",
       "New customer        13.208375\n",
       "Regular customer    12.561171\n",
       "Name: prices, dtype: float64"
      ]
     },
     "execution_count": 28,
     "metadata": {},
     "output_type": "execute_result"
    }
   ],
   "source": [
    "df_ords_prods_merge.groupby(['user_loyalty'])['prices'].mean()"
   ]
  },
  {
   "cell_type": "markdown",
   "id": "4e6073be",
   "metadata": {},
   "source": [
    "### Loyal customer tend to spend less on products puchased"
   ]
  },
  {
   "cell_type": "markdown",
   "id": "31ef1289",
   "metadata": {},
   "source": [
    "# step 6"
   ]
  },
  {
   "cell_type": "code",
   "execution_count": 31,
   "id": "4b9545a2",
   "metadata": {},
   "outputs": [],
   "source": [
    "# derive a column for avg_spending\n",
    "df_ords_prods_merge['avg_spending'] = df_ords_prods_merge.groupby(['user_id'])['prices'].transform(np.mean)"
   ]
  },
  {
   "cell_type": "code",
   "execution_count": 32,
   "id": "3612269d",
   "metadata": {},
   "outputs": [
    {
     "data": {
      "text/plain": [
       "count    3.240486e+07\n",
       "mean     1.198023e+01\n",
       "std      8.324227e+01\n",
       "min      1.000000e+00\n",
       "25%      7.387298e+00\n",
       "50%      7.824786e+00\n",
       "75%      8.254023e+00\n",
       "max      2.500542e+04\n",
       "Name: avg_spending, dtype: float64"
      ]
     },
     "execution_count": 32,
     "metadata": {},
     "output_type": "execute_result"
    }
   ],
   "source": [
    "df_ords_prods_merge['avg_spending'].describe()"
   ]
  },
  {
   "cell_type": "code",
   "execution_count": 33,
   "id": "aab35746",
   "metadata": {},
   "outputs": [],
   "source": [
    "# create label for spending range\n",
    "df_ords_prods_merge.loc[df_ords_prods_merge['avg_spending'] >= 10,'spending_range'] = 'High spender'"
   ]
  },
  {
   "cell_type": "code",
   "execution_count": 34,
   "id": "ee11b155",
   "metadata": {},
   "outputs": [],
   "source": [
    "df_ords_prods_merge.loc[df_ords_prods_merge['avg_spending'] < 10,'spending_range'] = 'Low spender'"
   ]
  },
  {
   "cell_type": "code",
   "execution_count": 36,
   "id": "93d9de35",
   "metadata": {},
   "outputs": [
    {
     "data": {
      "text/plain": [
       "Low spender     31770614\n",
       "High spender      634245\n",
       "Name: spending_range, dtype: int64"
      ]
     },
     "execution_count": 36,
     "metadata": {},
     "output_type": "execute_result"
    }
   ],
   "source": [
    "df_ords_prods_merge['spending_range'].value_counts(dropna = False)"
   ]
  },
  {
   "cell_type": "markdown",
   "id": "35bd6d55",
   "metadata": {},
   "source": [
    "# step 7"
   ]
  },
  {
   "cell_type": "code",
   "execution_count": 37,
   "id": "da2a1a29",
   "metadata": {},
   "outputs": [],
   "source": [
    "# derive a column for med_days_since\n",
    "df_ords_prods_merge['med_days_since'] = df_ords_prods_merge.groupby(['user_id'])['days_since_prior_order'].transform(np.median)"
   ]
  },
  {
   "cell_type": "code",
   "execution_count": 39,
   "id": "3aa5ba7b",
   "metadata": {},
   "outputs": [
    {
     "data": {
      "text/plain": [
       "count    3.240485e+07\n",
       "mean     1.039776e+01\n",
       "std      7.131754e+00\n",
       "min      0.000000e+00\n",
       "25%      6.000000e+00\n",
       "50%      8.000000e+00\n",
       "75%      1.300000e+01\n",
       "max      3.000000e+01\n",
       "Name: med_days_since, dtype: float64"
      ]
     },
     "execution_count": 39,
     "metadata": {},
     "output_type": "execute_result"
    }
   ],
   "source": [
    "df_ords_prods_merge['med_days_since'].describe() "
   ]
  },
  {
   "cell_type": "code",
   "execution_count": 40,
   "id": "cdbad5e0",
   "metadata": {},
   "outputs": [],
   "source": [
    "# create user frequency label\n",
    "df_ords_prods_merge.loc[df_ords_prods_merge['med_days_since'] > 20,'user_frequency'] = 'Non-frequent customers'"
   ]
  },
  {
   "cell_type": "code",
   "execution_count": 41,
   "id": "a13a31aa",
   "metadata": {},
   "outputs": [],
   "source": [
    "df_ords_prods_merge.loc[(df_ords_prods_merge['med_days_since'] <= 20) & (df_ords_prods_merge['med_days_since'] >= 10),'user_frequency'] = 'Regular customer'"
   ]
  },
  {
   "cell_type": "code",
   "execution_count": 42,
   "id": "6b01f462",
   "metadata": {},
   "outputs": [],
   "source": [
    "df_ords_prods_merge.loc[df_ords_prods_merge['med_days_since'] < 10,'user_frequency'] = 'Frequent user'"
   ]
  },
  {
   "cell_type": "code",
   "execution_count": 45,
   "id": "7d168d10",
   "metadata": {},
   "outputs": [
    {
     "data": {
      "text/plain": [
       "Frequent user             20287988\n",
       "Regular customer           8480429\n",
       "Non-frequent customers     3636437\n",
       "NaN                              5\n",
       "Name: user_frequency, dtype: int64"
      ]
     },
     "execution_count": 45,
     "metadata": {},
     "output_type": "execute_result"
    }
   ],
   "source": [
    "df_ords_prods_merge['user_frequency'].value_counts(dropna = False)"
   ]
  },
  {
   "cell_type": "markdown",
   "id": "571e00d7",
   "metadata": {},
   "source": [
    "# step 8"
   ]
  },
  {
   "cell_type": "code",
   "execution_count": 46,
   "id": "a5f06b53",
   "metadata": {},
   "outputs": [],
   "source": [
    "df_ords_prods_merge.to_pickle(os.path.join(path,'df_order_prods_labels.pickle'))"
   ]
  },
  {
   "cell_type": "code",
   "execution_count": null,
   "id": "ef895d90",
   "metadata": {},
   "outputs": [],
   "source": []
  }
 ],
 "metadata": {
  "kernelspec": {
   "display_name": "Python 3 (ipykernel)",
   "language": "python",
   "name": "python3"
  },
  "language_info": {
   "codemirror_mode": {
    "name": "ipython",
    "version": 3
   },
   "file_extension": ".py",
   "mimetype": "text/x-python",
   "name": "python",
   "nbconvert_exporter": "python",
   "pygments_lexer": "ipython3",
   "version": "3.9.13"
  }
 },
 "nbformat": 4,
 "nbformat_minor": 5
}
